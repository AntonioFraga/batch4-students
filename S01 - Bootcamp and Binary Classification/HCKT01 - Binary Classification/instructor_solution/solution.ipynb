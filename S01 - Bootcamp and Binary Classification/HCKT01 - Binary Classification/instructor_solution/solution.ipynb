{
 "cells": [
  {
   "cell_type": "markdown",
   "metadata": {},
   "source": [
    "\n",
    "# Hackathon - Binary Classification - Solutions"
   ]
  },
  {
   "cell_type": "markdown",
   "metadata": {},
   "source": [
    "In this notebook you will find the instructor's solution to the hackathon. This is one approach of many possible.\n",
    "The main goal is to provide you a baseline that you can modify/expand upon and show you how to take advantage of sklearn's pipeline to simplify your workflow."
   ]
  },
  {
   "cell_type": "markdown",
   "metadata": {},
   "source": [
    "### Import the necessary libraries"
   ]
  },
  {
   "cell_type": "code",
   "execution_count": 1,
   "metadata": {},
   "outputs": [],
   "source": [
    "# Import basic libraries\n",
    "import pandas as pd\n",
    "import numpy as np\n",
    "import matplotlib.pyplot as plt \n",
    "\n",
    "# Sklearn libraries\n",
    "from sklearn.pipeline import Pipeline\n",
    "from sklearn.model_selection import train_test_split\n",
    "from sklearn.impute import SimpleImputer\n",
    "from sklearn.ensemble import RandomForestClassifier\n",
    "from sklearn.metrics import confusion_matrix,roc_auc_score,roc_curve,classification_report,auc\n",
    "from sklearn.base import BaseEstimator, TransformerMixin # to create classes\n",
    "\n",
    "# Category encoders\n",
    "from category_encoders import OneHotEncoder, TargetEncoder"
   ]
  },
  {
   "cell_type": "markdown",
   "metadata": {},
   "source": [
    "#### Import the dataset"
   ]
  },
  {
   "cell_type": "code",
   "execution_count": 2,
   "metadata": {},
   "outputs": [],
   "source": [
    "# You might have to change this path or the location of this file\n",
    "data = pd.read_csv('data/train.csv').set_index(\"ID\")"
   ]
  },
  {
   "cell_type": "code",
   "execution_count": 3,
   "metadata": {
    "scrolled": true
   },
   "outputs": [
    {
     "data": {
      "text/html": [
       "<div>\n",
       "<style scoped>\n",
       "    .dataframe tbody tr th:only-of-type {\n",
       "        vertical-align: middle;\n",
       "    }\n",
       "\n",
       "    .dataframe tbody tr th {\n",
       "        vertical-align: top;\n",
       "    }\n",
       "\n",
       "    .dataframe thead th {\n",
       "        text-align: right;\n",
       "    }\n",
       "</style>\n",
       "<table border=\"1\" class=\"dataframe\">\n",
       "  <thead>\n",
       "    <tr style=\"text-align: right;\">\n",
       "      <th></th>\n",
       "      <th>DATE_DEPARTURE_UTC</th>\n",
       "      <th>DATE_ARRIVAL_UTC</th>\n",
       "      <th>DATE_DEPARTURE_LCL</th>\n",
       "      <th>DATE_ARRIVAL_LCL</th>\n",
       "      <th>ORIGIN</th>\n",
       "      <th>ORIGIN_AIRPORT_ID</th>\n",
       "      <th>DEST</th>\n",
       "      <th>DEST_AIRPORT_ID</th>\n",
       "      <th>TAIL_NUM</th>\n",
       "      <th>OP_CARRIER</th>\n",
       "      <th>OP_CARRIER_AIRLINE_ID</th>\n",
       "      <th>OP_CARRIER_FL_NUM</th>\n",
       "      <th>DISTANCE</th>\n",
       "      <th>CANCELLED</th>\n",
       "      <th>DEP_DEL15</th>\n",
       "      <th>ARR_DEL15</th>\n",
       "    </tr>\n",
       "    <tr>\n",
       "      <th>ID</th>\n",
       "      <th></th>\n",
       "      <th></th>\n",
       "      <th></th>\n",
       "      <th></th>\n",
       "      <th></th>\n",
       "      <th></th>\n",
       "      <th></th>\n",
       "      <th></th>\n",
       "      <th></th>\n",
       "      <th></th>\n",
       "      <th></th>\n",
       "      <th></th>\n",
       "      <th></th>\n",
       "      <th></th>\n",
       "      <th></th>\n",
       "      <th></th>\n",
       "    </tr>\n",
       "  </thead>\n",
       "  <tbody>\n",
       "    <tr>\n",
       "      <th>345355</th>\n",
       "      <td>2020-01-18 22:10:00</td>\n",
       "      <td>2020-01-18 23:59:00</td>\n",
       "      <td>2020-01-18 15:10:00</td>\n",
       "      <td>2020-01-18 15:59:00</td>\n",
       "      <td>SLC</td>\n",
       "      <td>14869</td>\n",
       "      <td>SNA</td>\n",
       "      <td>14908</td>\n",
       "      <td>N128DU</td>\n",
       "      <td>DL</td>\n",
       "      <td>19790</td>\n",
       "      <td>1056</td>\n",
       "      <td>588.0</td>\n",
       "      <td>0</td>\n",
       "      <td>0.0</td>\n",
       "      <td>0</td>\n",
       "    </tr>\n",
       "    <tr>\n",
       "      <th>323447</th>\n",
       "      <td>2020-01-17 21:47:00</td>\n",
       "      <td>2020-01-18 04:10:00</td>\n",
       "      <td>2020-01-17 16:47:00</td>\n",
       "      <td>2020-01-17 20:10:00</td>\n",
       "      <td>BOS</td>\n",
       "      <td>10721</td>\n",
       "      <td>SEA</td>\n",
       "      <td>14747</td>\n",
       "      <td>N486AS</td>\n",
       "      <td>AS</td>\n",
       "      <td>19930</td>\n",
       "      <td>15</td>\n",
       "      <td>2496.0</td>\n",
       "      <td>0</td>\n",
       "      <td>NaN</td>\n",
       "      <td>0</td>\n",
       "    </tr>\n",
       "    <tr>\n",
       "      <th>242237</th>\n",
       "      <td>2020-01-13 13:26:00</td>\n",
       "      <td>2020-01-13 14:26:00</td>\n",
       "      <td>2020-01-13 07:26:00</td>\n",
       "      <td>2020-01-13 08:26:00</td>\n",
       "      <td>DAL</td>\n",
       "      <td>11259</td>\n",
       "      <td>HOU</td>\n",
       "      <td>12191</td>\n",
       "      <td>N901WN</td>\n",
       "      <td>WN</td>\n",
       "      <td>19393</td>\n",
       "      <td>3</td>\n",
       "      <td>239.0</td>\n",
       "      <td>0</td>\n",
       "      <td>NaN</td>\n",
       "      <td>0</td>\n",
       "    </tr>\n",
       "    <tr>\n",
       "      <th>271408</th>\n",
       "      <td>2020-01-15 02:45:00</td>\n",
       "      <td>2020-01-15 03:37:00</td>\n",
       "      <td>2020-01-14 20:45:00</td>\n",
       "      <td>2020-01-14 21:37:00</td>\n",
       "      <td>STL</td>\n",
       "      <td>15016</td>\n",
       "      <td>DSM</td>\n",
       "      <td>11423</td>\n",
       "      <td>N778SW</td>\n",
       "      <td>WN</td>\n",
       "      <td>19393</td>\n",
       "      <td>1588</td>\n",
       "      <td>259.0</td>\n",
       "      <td>0</td>\n",
       "      <td>0.0</td>\n",
       "      <td>0</td>\n",
       "    </tr>\n",
       "    <tr>\n",
       "      <th>282447</th>\n",
       "      <td>2020-01-15 23:22:00</td>\n",
       "      <td>2020-01-16 00:49:00</td>\n",
       "      <td>2020-01-15 18:22:00</td>\n",
       "      <td>2020-01-15 19:49:00</td>\n",
       "      <td>CLT</td>\n",
       "      <td>11057</td>\n",
       "      <td>CHS</td>\n",
       "      <td>10994</td>\n",
       "      <td>N579NN</td>\n",
       "      <td>OH</td>\n",
       "      <td>20397</td>\n",
       "      <td>5207</td>\n",
       "      <td>168.0</td>\n",
       "      <td>0</td>\n",
       "      <td>NaN</td>\n",
       "      <td>1</td>\n",
       "    </tr>\n",
       "  </tbody>\n",
       "</table>\n",
       "</div>"
      ],
      "text/plain": [
       "         DATE_DEPARTURE_UTC     DATE_ARRIVAL_UTC   DATE_DEPARTURE_LCL  \\\n",
       "ID                                                                      \n",
       "345355  2020-01-18 22:10:00  2020-01-18 23:59:00  2020-01-18 15:10:00   \n",
       "323447  2020-01-17 21:47:00  2020-01-18 04:10:00  2020-01-17 16:47:00   \n",
       "242237  2020-01-13 13:26:00  2020-01-13 14:26:00  2020-01-13 07:26:00   \n",
       "271408  2020-01-15 02:45:00  2020-01-15 03:37:00  2020-01-14 20:45:00   \n",
       "282447  2020-01-15 23:22:00  2020-01-16 00:49:00  2020-01-15 18:22:00   \n",
       "\n",
       "           DATE_ARRIVAL_LCL ORIGIN  ORIGIN_AIRPORT_ID DEST  DEST_AIRPORT_ID  \\\n",
       "ID                                                                            \n",
       "345355  2020-01-18 15:59:00    SLC              14869  SNA            14908   \n",
       "323447  2020-01-17 20:10:00    BOS              10721  SEA            14747   \n",
       "242237  2020-01-13 08:26:00    DAL              11259  HOU            12191   \n",
       "271408  2020-01-14 21:37:00    STL              15016  DSM            11423   \n",
       "282447  2020-01-15 19:49:00    CLT              11057  CHS            10994   \n",
       "\n",
       "       TAIL_NUM OP_CARRIER  OP_CARRIER_AIRLINE_ID  OP_CARRIER_FL_NUM  \\\n",
       "ID                                                                     \n",
       "345355   N128DU         DL                  19790               1056   \n",
       "323447   N486AS         AS                  19930                 15   \n",
       "242237   N901WN         WN                  19393                  3   \n",
       "271408   N778SW         WN                  19393               1588   \n",
       "282447   N579NN         OH                  20397               5207   \n",
       "\n",
       "        DISTANCE  CANCELLED  DEP_DEL15  ARR_DEL15  \n",
       "ID                                                 \n",
       "345355     588.0          0        0.0          0  \n",
       "323447    2496.0          0        NaN          0  \n",
       "242237     239.0          0        NaN          0  \n",
       "271408     259.0          0        0.0          0  \n",
       "282447     168.0          0        NaN          1  "
      ]
     },
     "execution_count": 3,
     "metadata": {},
     "output_type": "execute_result"
    }
   ],
   "source": [
    "data.head()"
   ]
  },
  {
   "cell_type": "markdown",
   "metadata": {},
   "source": [
    "### EDA (Exploratory Dataset Analysis)"
   ]
  },
  {
   "cell_type": "markdown",
   "metadata": {},
   "source": [
    "Let's start by checking the number of unique values per column."
   ]
  },
  {
   "cell_type": "code",
   "execution_count": 4,
   "metadata": {},
   "outputs": [
    {
     "data": {
      "text/plain": [
       "DATE_DEPARTURE_UTC       29661\n",
       "DATE_ARRIVAL_UTC         30137\n",
       "DATE_DEPARTURE_LCL       26687\n",
       "DATE_ARRIVAL_LCL         28477\n",
       "ORIGIN                     351\n",
       "ORIGIN_AIRPORT_ID          351\n",
       "DEST                       350\n",
       "DEST_AIRPORT_ID            350\n",
       "TAIL_NUM                  5376\n",
       "OP_CARRIER                  17\n",
       "OP_CARRIER_AIRLINE_ID       17\n",
       "OP_CARRIER_FL_NUM         6715\n",
       "DISTANCE                  1468\n",
       "CANCELLED                    1\n",
       "DEP_DEL15                    2\n",
       "ARR_DEL15                    2\n",
       "dtype: int64"
      ]
     },
     "execution_count": 4,
     "metadata": {},
     "output_type": "execute_result"
    }
   ],
   "source": [
    "data.nunique()"
   ]
  },
  {
   "cell_type": "markdown",
   "metadata": {},
   "source": [
    "We can see some of the columns are not adding any value to the model. Let's drop them."
   ]
  },
  {
   "cell_type": "code",
   "execution_count": 5,
   "metadata": {},
   "outputs": [],
   "source": [
    "cols_irrelevant=[\"ORIGIN_AIRPORT_ID\", \"DEST_AIRPORT_ID\", \"OP_CARRIER_AIRLINE_ID\", \"CANCELLED\"]"
   ]
  },
  {
   "cell_type": "code",
   "execution_count": 6,
   "metadata": {},
   "outputs": [],
   "source": [
    "data = data.drop(columns=cols_irrelevant)"
   ]
  },
  {
   "cell_type": "markdown",
   "metadata": {},
   "source": [
    "Let's check the data types we are dealing with."
   ]
  },
  {
   "cell_type": "code",
   "execution_count": 7,
   "metadata": {},
   "outputs": [
    {
     "data": {
      "text/plain": [
       "DATE_DEPARTURE_UTC     object\n",
       "DATE_ARRIVAL_UTC       object\n",
       "DATE_DEPARTURE_LCL     object\n",
       "DATE_ARRIVAL_LCL       object\n",
       "ORIGIN                 object\n",
       "DEST                   object\n",
       "TAIL_NUM               object\n",
       "OP_CARRIER             object\n",
       "OP_CARRIER_FL_NUM       int64\n",
       "DISTANCE              float64\n",
       "DEP_DEL15             float64\n",
       "ARR_DEL15               int64\n",
       "dtype: object"
      ]
     },
     "execution_count": 7,
     "metadata": {},
     "output_type": "execute_result"
    }
   ],
   "source": [
    "data.dtypes"
   ]
  },
  {
   "cell_type": "markdown",
   "metadata": {},
   "source": [
    "We can see dates are in the incorrect format. We'll have to convert them."
   ]
  },
  {
   "cell_type": "code",
   "execution_count": 8,
   "metadata": {},
   "outputs": [],
   "source": [
    "date_cols_to_convert = [\"DATE_DEPARTURE_UTC\", \"DATE_ARRIVAL_UTC\", \"DATE_DEPARTURE_LCL\", \"DATE_ARRIVAL_LCL\"]\n",
    "data[date_cols_to_convert] = data[date_cols_to_convert].apply(pd.to_datetime, format=\"%Y/%m/%d %H:%M:%S\")"
   ]
  },
  {
   "cell_type": "code",
   "execution_count": 9,
   "metadata": {},
   "outputs": [
    {
     "data": {
      "text/plain": [
       "DATE_DEPARTURE_UTC    datetime64[ns]\n",
       "DATE_ARRIVAL_UTC      datetime64[ns]\n",
       "DATE_DEPARTURE_LCL    datetime64[ns]\n",
       "DATE_ARRIVAL_LCL      datetime64[ns]\n",
       "ORIGIN                        object\n",
       "DEST                          object\n",
       "TAIL_NUM                      object\n",
       "OP_CARRIER                    object\n",
       "OP_CARRIER_FL_NUM              int64\n",
       "DISTANCE                     float64\n",
       "DEP_DEL15                    float64\n",
       "ARR_DEL15                      int64\n",
       "dtype: object"
      ]
     },
     "execution_count": 9,
     "metadata": {},
     "output_type": "execute_result"
    }
   ],
   "source": [
    "data.dtypes"
   ]
  },
  {
   "cell_type": "markdown",
   "metadata": {},
   "source": [
    "Much better now!\n",
    "\n",
    "Let's check if we have any missing values to worry about."
   ]
  },
  {
   "cell_type": "code",
   "execution_count": 10,
   "metadata": {},
   "outputs": [
    {
     "data": {
      "text/plain": [
       "DATE_DEPARTURE_UTC         0\n",
       "DATE_ARRIVAL_UTC           0\n",
       "DATE_DEPARTURE_LCL         0\n",
       "DATE_ARRIVAL_LCL           0\n",
       "ORIGIN                     0\n",
       "DEST                       0\n",
       "TAIL_NUM                   0\n",
       "OP_CARRIER                 0\n",
       "OP_CARRIER_FL_NUM          0\n",
       "DISTANCE               17618\n",
       "DEP_DEL15             146820\n",
       "ARR_DEL15                  0\n",
       "dtype: int64"
      ]
     },
     "execution_count": 10,
     "metadata": {},
     "output_type": "execute_result"
    }
   ],
   "source": [
    "data.isna().sum()"
   ]
  },
  {
   "cell_type": "markdown",
   "metadata": {},
   "source": [
    "Hmm, two features have missing values.\n",
    "\n",
    "In the case of the `DISTANCE` column you may have noticed some of the missing values can be filled with information from other rows."
   ]
  },
  {
   "cell_type": "code",
   "execution_count": 11,
   "metadata": {
    "scrolled": true
   },
   "outputs": [
    {
     "data": {
      "text/html": [
       "<div>\n",
       "<style scoped>\n",
       "    .dataframe tbody tr th:only-of-type {\n",
       "        vertical-align: middle;\n",
       "    }\n",
       "\n",
       "    .dataframe tbody tr th {\n",
       "        vertical-align: top;\n",
       "    }\n",
       "\n",
       "    .dataframe thead th {\n",
       "        text-align: right;\n",
       "    }\n",
       "</style>\n",
       "<table border=\"1\" class=\"dataframe\">\n",
       "  <thead>\n",
       "    <tr style=\"text-align: right;\">\n",
       "      <th></th>\n",
       "      <th>ORIGIN</th>\n",
       "      <th>DEST</th>\n",
       "      <th>DISTANCE</th>\n",
       "    </tr>\n",
       "    <tr>\n",
       "      <th>ID</th>\n",
       "      <th></th>\n",
       "      <th></th>\n",
       "      <th></th>\n",
       "    </tr>\n",
       "  </thead>\n",
       "  <tbody>\n",
       "    <tr>\n",
       "      <th>211515</th>\n",
       "      <td>ABE</td>\n",
       "      <td>PIE</td>\n",
       "      <td>970.0</td>\n",
       "    </tr>\n",
       "    <tr>\n",
       "      <th>275169</th>\n",
       "      <td>ABE</td>\n",
       "      <td>SFB</td>\n",
       "      <td>882.0</td>\n",
       "    </tr>\n",
       "    <tr>\n",
       "      <th>140902</th>\n",
       "      <td>ABE</td>\n",
       "      <td>ATL</td>\n",
       "      <td>NaN</td>\n",
       "    </tr>\n",
       "    <tr>\n",
       "      <th>14329</th>\n",
       "      <td>ABE</td>\n",
       "      <td>PGD</td>\n",
       "      <td>1018.0</td>\n",
       "    </tr>\n",
       "    <tr>\n",
       "      <th>281846</th>\n",
       "      <td>ABE</td>\n",
       "      <td>ATL</td>\n",
       "      <td>692.0</td>\n",
       "    </tr>\n",
       "  </tbody>\n",
       "</table>\n",
       "</div>"
      ],
      "text/plain": [
       "       ORIGIN DEST  DISTANCE\n",
       "ID                          \n",
       "211515    ABE  PIE     970.0\n",
       "275169    ABE  SFB     882.0\n",
       "140902    ABE  ATL       NaN\n",
       "14329     ABE  PGD    1018.0\n",
       "281846    ABE  ATL     692.0"
      ]
     },
     "execution_count": 11,
     "metadata": {},
     "output_type": "execute_result"
    }
   ],
   "source": [
    "data[[\"ORIGIN\", \"DEST\", \"DISTANCE\"]].sort_values(by=[\"ORIGIN\"]).head()"
   ]
  },
  {
   "cell_type": "code",
   "execution_count": 12,
   "metadata": {},
   "outputs": [],
   "source": [
    "# Start by isolating the information that is available to you regarding the variable distance\n",
    "data_distance = data[[\"ORIGIN\",\"DEST\",\"DISTANCE\"]].dropna().copy()\n",
    "# Create a dict that matches (Origin, destination) tuples to distances\n",
    "distance_dict = data_distance.set_index([\"ORIGIN\",\"DEST\"])[\"DISTANCE\"].to_dict()\n",
    "# Replace any missing value with the information contained in the dict \n",
    "data[\"DISTANCE\"] = data.apply(lambda row: distance_dict[(row[\"ORIGIN\"], row[\"DEST\"])]\n",
    "                        if np.isnan(row[\"DISTANCE\"]) and (row[\"ORIGIN\"], row[\"DEST\"]) in distance_dict.keys()\n",
    "                        else row[\"DISTANCE\"], axis=1)"
   ]
  },
  {
   "cell_type": "code",
   "execution_count": 13,
   "metadata": {},
   "outputs": [],
   "source": [
    "#distance_dict"
   ]
  },
  {
   "cell_type": "markdown",
   "metadata": {},
   "source": [
    "Result:"
   ]
  },
  {
   "cell_type": "code",
   "execution_count": 14,
   "metadata": {
    "scrolled": true
   },
   "outputs": [
    {
     "data": {
      "text/plain": [
       "DATE_DEPARTURE_UTC         0\n",
       "DATE_ARRIVAL_UTC           0\n",
       "DATE_DEPARTURE_LCL         0\n",
       "DATE_ARRIVAL_LCL           0\n",
       "ORIGIN                     0\n",
       "DEST                       0\n",
       "TAIL_NUM                   0\n",
       "OP_CARRIER                 0\n",
       "OP_CARRIER_FL_NUM          0\n",
       "DISTANCE                   7\n",
       "DEP_DEL15             146820\n",
       "ARR_DEL15                  0\n",
       "dtype: int64"
      ]
     },
     "execution_count": 14,
     "metadata": {},
     "output_type": "execute_result"
    }
   ],
   "source": [
    "data.isna().sum()"
   ]
  },
  {
   "cell_type": "markdown",
   "metadata": {},
   "source": [
    "We are able to get rid of most of the missing values in this feature.\n",
    "\n",
    "Let's check the correlation."
   ]
  },
  {
   "cell_type": "code",
   "execution_count": 15,
   "metadata": {},
   "outputs": [
    {
     "data": {
      "text/html": [
       "<div>\n",
       "<style scoped>\n",
       "    .dataframe tbody tr th:only-of-type {\n",
       "        vertical-align: middle;\n",
       "    }\n",
       "\n",
       "    .dataframe tbody tr th {\n",
       "        vertical-align: top;\n",
       "    }\n",
       "\n",
       "    .dataframe thead th {\n",
       "        text-align: right;\n",
       "    }\n",
       "</style>\n",
       "<table border=\"1\" class=\"dataframe\">\n",
       "  <thead>\n",
       "    <tr style=\"text-align: right;\">\n",
       "      <th></th>\n",
       "      <th>OP_CARRIER_FL_NUM</th>\n",
       "      <th>DISTANCE</th>\n",
       "      <th>DEP_DEL15</th>\n",
       "      <th>ARR_DEL15</th>\n",
       "    </tr>\n",
       "  </thead>\n",
       "  <tbody>\n",
       "    <tr>\n",
       "      <th>OP_CARRIER_FL_NUM</th>\n",
       "      <td>1.0</td>\n",
       "      <td>NaN</td>\n",
       "      <td>NaN</td>\n",
       "      <td>NaN</td>\n",
       "    </tr>\n",
       "    <tr>\n",
       "      <th>DISTANCE</th>\n",
       "      <td>NaN</td>\n",
       "      <td>1.0</td>\n",
       "      <td>NaN</td>\n",
       "      <td>NaN</td>\n",
       "    </tr>\n",
       "    <tr>\n",
       "      <th>DEP_DEL15</th>\n",
       "      <td>NaN</td>\n",
       "      <td>NaN</td>\n",
       "      <td>1.000000</td>\n",
       "      <td>0.713799</td>\n",
       "    </tr>\n",
       "    <tr>\n",
       "      <th>ARR_DEL15</th>\n",
       "      <td>NaN</td>\n",
       "      <td>NaN</td>\n",
       "      <td>0.713799</td>\n",
       "      <td>1.000000</td>\n",
       "    </tr>\n",
       "  </tbody>\n",
       "</table>\n",
       "</div>"
      ],
      "text/plain": [
       "                   OP_CARRIER_FL_NUM  DISTANCE  DEP_DEL15  ARR_DEL15\n",
       "OP_CARRIER_FL_NUM                1.0       NaN        NaN        NaN\n",
       "DISTANCE                         NaN       1.0        NaN        NaN\n",
       "DEP_DEL15                        NaN       NaN   1.000000   0.713799\n",
       "ARR_DEL15                        NaN       NaN   0.713799   1.000000"
      ]
     },
     "execution_count": 15,
     "metadata": {},
     "output_type": "execute_result"
    }
   ],
   "source": [
    "data.corr()[data.corr().abs()>0.7]"
   ]
  },
  {
   "cell_type": "markdown",
   "metadata": {},
   "source": [
    "The feature `DEP_DEL15` is highly correlated with our target variable. This feature is likely to be very useful.\n",
    "\n",
    "Let's also check if are dealing with an imbalanced dataset."
   ]
  },
  {
   "cell_type": "code",
   "execution_count": 16,
   "metadata": {},
   "outputs": [
    {
     "data": {
      "image/png": "[encoded data removed]",
      "text/plain": [
       "<Figure size 432x288 with 1 Axes>"
      ]
     },
     "metadata": {
      "needs_background": "light"
     },
     "output_type": "display_data"
    }
   ],
   "source": [
    "# Checking if the dataset is imbalanced \n",
    "data[\"ARR_DEL15\"].value_counts(normalize=True).plot(kind=\"bar\")\n",
    "plt.title('ARR_DEL15 Distribution')\n",
    "plt.xlabel(\"Airplane arriving late (No=0, Yes=1)\")\n",
    "plt.ylabel(\"Perc. of airplanes arriving late\");"
   ]
  },
  {
   "cell_type": "markdown",
   "metadata": {},
   "source": [
    "Note: You can also use [pandas-profiling](https://github.com/pandas-profiling/pandas-profiling)!"
   ]
  },
  {
   "cell_type": "code",
   "execution_count": 17,
   "metadata": {},
   "outputs": [],
   "source": [
    "#from pandas_profiling import ProfileReport\n",
    "#report = ProfileReport(data)\n",
    "#report"
   ]
  },
  {
   "cell_type": "markdown",
   "metadata": {},
   "source": [
    "### Putting all these steps together"
   ]
  },
  {
   "cell_type": "markdown",
   "metadata": {},
   "source": [
    "Let's put the steps above into classes so they can be integrated our pipeline."
   ]
  },
  {
   "cell_type": "code",
   "execution_count": 18,
   "metadata": {},
   "outputs": [],
   "source": [
    "class DistanceFixNA(BaseEstimator, TransformerMixin):\n",
    "    def __init__(self):\n",
    "        pass\n",
    "    def fit(self, X=None, y=None, **fit_params):\n",
    "        data_distance = X[[\"ORIGIN\",\"DEST\",\"DISTANCE\"]].dropna().copy()\n",
    "        self.distance_mapping = data_distance.set_index([\"ORIGIN\",\"DEST\"])[\"DISTANCE\"].to_dict()\n",
    "        return self\n",
    "    def transform(self, data):\n",
    "        X = data.copy()\n",
    "        X[\"DISTANCE\"] = X.apply(lambda row: self.distance_mapping[(row[\"ORIGIN\"], row[\"DEST\"])]\n",
    "                                if np.isnan(row[\"DISTANCE\"]) and (row[\"ORIGIN\"], row[\"DEST\"]) in self.distance_mapping.keys()\n",
    "                                else row[\"DISTANCE\"], axis=1)\n",
    "        X[\"DISTANCE\"] = X[\"DISTANCE\"].fillna(X[\"DISTANCE\"].median())\n",
    "        return X"
   ]
  },
  {
   "cell_type": "code",
   "execution_count": 19,
   "metadata": {},
   "outputs": [],
   "source": [
    "class DroppingColumns(BaseEstimator, TransformerMixin):\n",
    "    def __init__(self, cols=[]):\n",
    "        self.cols = cols\n",
    "    def fit(self, X=None, y=None, **fit_params):\n",
    "        return self\n",
    "    def transform(self, data):\n",
    "        X = data.copy()\n",
    "        X = X.drop(self.cols,axis=1)\n",
    "        return X"
   ]
  },
  {
   "cell_type": "markdown",
   "metadata": {},
   "source": [
    "### Feature Engineering"
   ]
  },
  {
   "cell_type": "markdown",
   "metadata": {},
   "source": [
    "Create new columns with the **hour** and **day of the week** of each flight"
   ]
  },
  {
   "cell_type": "code",
   "execution_count": 20,
   "metadata": {},
   "outputs": [],
   "source": [
    "class CreateTimeFeatures(BaseEstimator, TransformerMixin):\n",
    "    def __init__(self, cols=[]):\n",
    "        self.cols = cols\n",
    "    def fit(self, X=None, y=None, **fit_params):\n",
    "        return self\n",
    "    def transform(self, data):\n",
    "        X = data.copy()\n",
    "        for col in self.cols:\n",
    "            X[\"HOUR\" + col.replace(\"DATE\",\"\")] = X[col].dt.hour\n",
    "            X[\"WEEK_DAY\" + col.replace(\"DATE\",\"\")] = X[col].dt.dayofweek\n",
    "        return X"
   ]
  },
  {
   "cell_type": "markdown",
   "metadata": {},
   "source": [
    "Produce a new feature **speed** from the `DISTANCE`, `DATE_ARRIVAL_UTC`, and `DATE_DEPARTURE_UTC` columns"
   ]
  },
  {
   "cell_type": "code",
   "execution_count": 21,
   "metadata": {},
   "outputs": [],
   "source": [
    "class CalcSpeed(BaseEstimator, TransformerMixin):\n",
    "    def __init__(self):\n",
    "        pass\n",
    "    def fit(self, X=None, y=None, **fit_params):\n",
    "        return self\n",
    "    def transform(self, data):\n",
    "        X = data.copy()\n",
    "        X[\"SPEED\"] = data[\"DISTANCE\"] / (X[\"DATE_ARRIVAL_UTC\"] - X[\"DATE_DEPARTURE_UTC\"]).dt.total_seconds()\n",
    "        return X"
   ]
  },
  {
   "cell_type": "markdown",
   "metadata": {},
   "source": [
    "### Creating the Model "
   ]
  },
  {
   "cell_type": "markdown",
   "metadata": {},
   "source": [
    "Import the dataset again (let's do the same transformations using the pipeline)"
   ]
  },
  {
   "cell_type": "code",
   "execution_count": 22,
   "metadata": {},
   "outputs": [],
   "source": [
    "data = pd.read_csv('data/train.csv').set_index(\"ID\")\n",
    "# Converting date columns to datetime\n",
    "data[date_cols_to_convert] = data[date_cols_to_convert].apply(pd.to_datetime, format=\"%Y/%m/%d %H:%M:%S\")"
   ]
  },
  {
   "cell_type": "markdown",
   "metadata": {},
   "source": [
    "Preparing the dataset for the split (don't forget to sort)"
   ]
  },
  {
   "cell_type": "code",
   "execution_count": 23,
   "metadata": {},
   "outputs": [],
   "source": [
    "data = data.sort_values(by=\"DATE_DEPARTURE_LCL\")\n",
    "X = data.drop(columns=['ARR_DEL15'])\n",
    "y = data['ARR_DEL15']"
   ]
  },
  {
   "cell_type": "markdown",
   "metadata": {},
   "source": [
    "Splitting the dataset between test and train"
   ]
  },
  {
   "cell_type": "code",
   "execution_count": 24,
   "metadata": {},
   "outputs": [],
   "source": [
    "X_train, X_test, y_train, y_test = train_test_split(X,\n",
    "                                                    y,\n",
    "                                                    test_size=0.2,\n",
    "                                                    shuffle=False) # be careful here. By default the dataset is shuffled"
   ]
  },
  {
   "cell_type": "markdown",
   "metadata": {},
   "source": [
    "Creating the pipeline"
   ]
  },
  {
   "cell_type": "code",
   "execution_count": 25,
   "metadata": {},
   "outputs": [],
   "source": [
    "time_features_cols = ['DATE_DEPARTURE_LCL','DATE_ARRIVAL_LCL']\n",
    "# This is just a list with the name of the new time features we created in the step \"create_time_features\"\n",
    "new_time_variables = [ft+col.replace(\"DATE\",\"\") for col in time_features_cols for ft in [\"WEEK_DAY\", \"HOUR\"]]\n",
    "cols_to_drop = ['OP_CARRIER', 'OP_CARRIER_FL_NUM', 'TAIL_NUM', 'DATE_DEPARTURE_UTC','DATE_ARRIVAL_UTC',\n",
    "                'DATE_DEPARTURE_LCL','DATE_ARRIVAL_LCL']\n",
    "\n",
    "pipeline = Pipeline([(\"distance_fix\", DistanceFixNA()),\n",
    "                     (\"create_time_features\", CreateTimeFeatures(cols=time_features_cols)),\n",
    "                     ('onehot_encoding', OneHotEncoder(cols=new_time_variables)),\n",
    "                     ('departure_encoding', OneHotEncoder(cols=[\"DEP_DEL15\"], handle_missing=\"indicator\")),\n",
    "                     ('target_encoding',TargetEncoder(cols=['DEST',\"ORIGIN\"], min_samples_leaf=30)),\n",
    "                     ('speed', CalcSpeed()),\n",
    "                     (\"drop_columns\", DroppingColumns(cols=cols_irrelevant + cols_to_drop)),\n",
    "                     ('model', RandomForestClassifier(random_state=42))])"
   ]
  },
  {
   "cell_type": "markdown",
   "metadata": {},
   "source": [
    "Train the model and generate the predictions"
   ]
  },
  {
   "cell_type": "code",
   "execution_count": 26,
   "metadata": {},
   "outputs": [
    {
     "data": {
      "text/plain": [
       "Pipeline(steps=[('distance_fix', DistanceFixNA()),\n",
       "                ('create_time_features',\n",
       "                 CreateTimeFeatures(cols=['DATE_DEPARTURE_LCL',\n",
       "                                          'DATE_ARRIVAL_LCL'])),\n",
       "                ('onehot_encoding',\n",
       "                 OneHotEncoder(cols=['WEEK_DAY_DEPARTURE_LCL',\n",
       "                                     'HOUR_DEPARTURE_LCL',\n",
       "                                     'WEEK_DAY_ARRIVAL_LCL',\n",
       "                                     'HOUR_ARRIVAL_LCL'])),\n",
       "                ('departure_encoding',\n",
       "                 OneHotEncoder(cols=['DEP_DEL15'], handle_missing='indicato...\n",
       "                 TargetEncoder(cols=['DEST', 'ORIGIN'], min_samples_leaf=30)),\n",
       "                ('speed', CalcSpeed()),\n",
       "                ('drop_columns',\n",
       "                 DroppingColumns(cols=['ORIGIN_AIRPORT_ID', 'DEST_AIRPORT_ID',\n",
       "                                       'OP_CARRIER_AIRLINE_ID', 'CANCELLED',\n",
       "                                       'OP_CARRIER', 'OP_CARRIER_FL_NUM',\n",
       "                                       'TAIL_NUM', 'DATE_DEPARTURE_UTC',\n",
       "                                       'DATE_ARRIVAL_UTC', 'DATE_DEPARTURE_LCL',\n",
       "                                       'DATE_ARRIVAL_LCL'])),\n",
       "                ('model', RandomForestClassifier(random_state=42))])"
      ]
     },
     "execution_count": 26,
     "metadata": {},
     "output_type": "execute_result"
    }
   ],
   "source": [
    "pipeline.fit(X_train, y_train)"
   ]
  },
  {
   "cell_type": "code",
   "execution_count": 27,
   "metadata": {},
   "outputs": [],
   "source": [
    "y_scores = pipeline.predict_proba(X_test)[:,1]"
   ]
  },
  {
   "cell_type": "code",
   "execution_count": 28,
   "metadata": {
    "scrolled": true
   },
   "outputs": [
    {
     "name": "stdout",
     "output_type": "stream",
     "text": [
      "Score: 0.92\n"
     ]
    },
    {
     "data": {
      "image/png": "[encoded data removed]",
      "text/plain": [
       "<Figure size 432x288 with 1 Axes>"
      ]
     },
     "metadata": {
      "needs_background": "light"
     },
     "output_type": "display_data"
    }
   ],
   "source": [
    "fpr, tpr, threshold = roc_curve(y_test, y_scores)\n",
    "roc_auc = auc(fpr, tpr)\n",
    "\n",
    "plt.title('Receiver Operating Characteristic')\n",
    "plt.plot(fpr, tpr, 'b', label = 'AUC = %0.2f' % roc_auc)\n",
    "plt.legend(loc = 'lower right')\n",
    "plt.plot([0, 1], [0, 1],'r--')\n",
    "plt.xlim([0, 1])\n",
    "plt.ylim([0, 1])\n",
    "plt.ylabel('True Positive Rate')\n",
    "plt.xlabel('False Positive Rate')\n",
    "print(\"Score: \"+ str(round(roc_auc,3)))\n",
    "plt.show()"
   ]
  },
  {
   "cell_type": "markdown",
   "metadata": {},
   "source": [
    "#### Check final score using the test set"
   ]
  },
  {
   "cell_type": "markdown",
   "metadata": {},
   "source": [
    "Load the test set"
   ]
  },
  {
   "cell_type": "code",
   "execution_count": 29,
   "metadata": {},
   "outputs": [],
   "source": [
    "test = pd.read_csv('data/test.csv').set_index(\"ID\")\n",
    "# Don't forget to convert dates to timestamp again\n",
    "test[date_cols_to_convert] = test[date_cols_to_convert].apply(pd.to_datetime, format=\"%Y/%m/%d %H:%M:%S\")"
   ]
  },
  {
   "cell_type": "markdown",
   "metadata": {},
   "source": [
    "Use the pipeline to get predictions (very simple!)"
   ]
  },
  {
   "cell_type": "code",
   "execution_count": 30,
   "metadata": {
    "scrolled": true
   },
   "outputs": [],
   "source": [
    "y_scores_final = pipeline.predict_proba(test)[:,1]"
   ]
  },
  {
   "cell_type": "markdown",
   "metadata": {},
   "source": [
    "Prepare the submissions file"
   ]
  },
  {
   "cell_type": "code",
   "execution_count": 31,
   "metadata": {},
   "outputs": [],
   "source": [
    "submission = pd.Series(y_scores_final,index=test.index, name='ARR_DEL15')\n",
    "submission.to_csv(\"submission.csv\")"
   ]
  },
  {
   "cell_type": "markdown",
   "metadata": {},
   "source": [
    "This should get you a 0.915!"
   ]
  }
 ],
 "metadata": {
  "kernelspec": {
   "display_name": "Python 3",
   "language": "python",
   "name": "python3"
  },
  "language_info": {
   "codemirror_mode": {
    "name": "ipython",
    "version": 3
   },
   "file_extension": ".py",
   "mimetype": "text/x-python",
   "name": "python",
   "nbconvert_exporter": "python",
   "pygments_lexer": "ipython3",
   "version": "3.8.5"
  }
 },
 "nbformat": 4,
 "nbformat_minor": 4
}
