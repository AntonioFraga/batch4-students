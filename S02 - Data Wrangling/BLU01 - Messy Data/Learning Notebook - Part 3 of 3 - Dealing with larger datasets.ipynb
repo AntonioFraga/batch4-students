{
 "cells": [
  {
   "cell_type": "markdown",
   "metadata": {},
   "source": [
    "# Learning Notebook - Part 3 of 3 - Dealing with larger datasets\n",
    "\n",
    "## 1. Introduction"
   ]
  },
  {
   "cell_type": "markdown",
   "metadata": {},
   "source": [
    "Up to this point, you've already handled several datasets. Most were small. When a dataset is bigger Pandas could have problems digesting all of it. "
   ]
  },
  {
   "cell_type": "markdown",
   "metadata": {},
   "source": [
    "![title](./media/panda_eating.jpg)"
   ]
  },
  {
   "cell_type": "markdown",
   "metadata": {},
   "source": [
    "Here we're going to handle larger datasets using pandas. Let's start by doing a couple of read tricks"
   ]
  },
  {
   "cell_type": "markdown",
   "metadata": {},
   "source": [
    "* **Only reading n lines**\n",
    "\n",
    "Sometimes we're dealing with large files and we're just interested in previewing our data.\n",
    "With argument **nrows**, we can specify how many lines of the files should be read into the DataFrame. The n first lines of the file will be read."
   ]
  },
  {
   "cell_type": "code",
   "execution_count": 2,
   "metadata": {},
   "outputs": [],
   "source": [
    "import os\n",
    "import pandas as pd\n",
    "import random"
   ]
  },
  {
   "cell_type": "code",
   "execution_count": 3,
   "metadata": {},
   "outputs": [],
   "source": [
    "# Again an helper function to get filepaths\n",
    "def pokemons_filepath(filename):\n",
    "    return os.path.join('data', 'pokemons', filename)"
   ]
  },
  {
   "cell_type": "code",
   "execution_count": 4,
   "metadata": {},
   "outputs": [
    {
     "output_type": "execute_result",
     "data": {
      "text/plain": "800"
     },
     "metadata": {},
     "execution_count": 4
    }
   ],
   "source": [
    "# Number of lines in the pokemons file\n",
    "pd.read_csv(pokemons_filepath('pokemons.csv')).shape[0]"
   ]
  },
  {
   "cell_type": "code",
   "execution_count": 5,
   "metadata": {},
   "outputs": [
    {
     "output_type": "execute_result",
     "data": {
      "text/plain": "   #       Name Type 1  Type 2  HP  Attack  Defense  Sp. Atk  Sp. Def  Speed  \\\n0  1  Bulbasaur  Grass  Poison  45      49       49       65       65     45   \n1  2    Ivysaur  Grass  Poison  60      62       63       80       80     60   \n2  3   Venusaur  Grass  Poison  80      82       83      100      100     80   \n\n   Generation  Legendary  \n0           1      False  \n1           1      False  \n2           1      False  ",
      "text/html": "<div>\n<style scoped>\n    .dataframe tbody tr th:only-of-type {\n        vertical-align: middle;\n    }\n\n    .dataframe tbody tr th {\n        vertical-align: top;\n    }\n\n    .dataframe thead th {\n        text-align: right;\n    }\n</style>\n<table border=\"1\" class=\"dataframe\">\n  <thead>\n    <tr style=\"text-align: right;\">\n      <th></th>\n      <th>#</th>\n      <th>Name</th>\n      <th>Type 1</th>\n      <th>Type 2</th>\n      <th>HP</th>\n      <th>Attack</th>\n      <th>Defense</th>\n      <th>Sp. Atk</th>\n      <th>Sp. Def</th>\n      <th>Speed</th>\n      <th>Generation</th>\n      <th>Legendary</th>\n    </tr>\n  </thead>\n  <tbody>\n    <tr>\n      <th>0</th>\n      <td>1</td>\n      <td>Bulbasaur</td>\n      <td>Grass</td>\n      <td>Poison</td>\n      <td>45</td>\n      <td>49</td>\n      <td>49</td>\n      <td>65</td>\n      <td>65</td>\n      <td>45</td>\n      <td>1</td>\n      <td>False</td>\n    </tr>\n    <tr>\n      <th>1</th>\n      <td>2</td>\n      <td>Ivysaur</td>\n      <td>Grass</td>\n      <td>Poison</td>\n      <td>60</td>\n      <td>62</td>\n      <td>63</td>\n      <td>80</td>\n      <td>80</td>\n      <td>60</td>\n      <td>1</td>\n      <td>False</td>\n    </tr>\n    <tr>\n      <th>2</th>\n      <td>3</td>\n      <td>Venusaur</td>\n      <td>Grass</td>\n      <td>Poison</td>\n      <td>80</td>\n      <td>82</td>\n      <td>83</td>\n      <td>100</td>\n      <td>100</td>\n      <td>80</td>\n      <td>1</td>\n      <td>False</td>\n    </tr>\n  </tbody>\n</table>\n</div>"
     },
     "metadata": {},
     "execution_count": 5
    }
   ],
   "source": [
    "pd.read_csv(pokemons_filepath('pokemons.csv'), nrows=3)"
   ]
  },
  {
   "cell_type": "markdown",
   "metadata": {},
   "source": [
    "* **Only reading some columns**\n",
    "\n",
    "If we only want to read some columns, we can use argument **usecols** giving it a list of column names or numbers."
   ]
  },
  {
   "cell_type": "code",
   "execution_count": 6,
   "metadata": {},
   "outputs": [
    {
     "output_type": "execute_result",
     "data": {
      "text/plain": "            Name  Type 2  Sp. Atk\n0      Bulbasaur  Poison       65\n1        Ivysaur  Poison       80\n2       Venusaur  Poison      100\n3  Mega Venusaur  Poison      122\n4     Charmander     NaN       60",
      "text/html": "<div>\n<style scoped>\n    .dataframe tbody tr th:only-of-type {\n        vertical-align: middle;\n    }\n\n    .dataframe tbody tr th {\n        vertical-align: top;\n    }\n\n    .dataframe thead th {\n        text-align: right;\n    }\n</style>\n<table border=\"1\" class=\"dataframe\">\n  <thead>\n    <tr style=\"text-align: right;\">\n      <th></th>\n      <th>Name</th>\n      <th>Type 2</th>\n      <th>Sp. Atk</th>\n    </tr>\n  </thead>\n  <tbody>\n    <tr>\n      <th>0</th>\n      <td>Bulbasaur</td>\n      <td>Poison</td>\n      <td>65</td>\n    </tr>\n    <tr>\n      <th>1</th>\n      <td>Ivysaur</td>\n      <td>Poison</td>\n      <td>80</td>\n    </tr>\n    <tr>\n      <th>2</th>\n      <td>Venusaur</td>\n      <td>Poison</td>\n      <td>100</td>\n    </tr>\n    <tr>\n      <th>3</th>\n      <td>Mega Venusaur</td>\n      <td>Poison</td>\n      <td>122</td>\n    </tr>\n    <tr>\n      <th>4</th>\n      <td>Charmander</td>\n      <td>NaN</td>\n      <td>60</td>\n    </tr>\n  </tbody>\n</table>\n</div>"
     },
     "metadata": {},
     "execution_count": 6
    }
   ],
   "source": [
    "pd.read_csv(pokemons_filepath('pokemons_short.csv'), usecols=[1, 3, 7])"
   ]
  },
  {
   "cell_type": "markdown",
   "metadata": {},
   "source": [
    "* **Read n random lines**\n",
    "\n",
    "To read a set of *n* random lines from a file, we can use the little trick using the skiprows argument of the read_csv function! Let's see how.\n",
    "\n",
    "First, we need to know how many lines does the file have. Let's do it with a shell command, as we saw in the first part of this BLU."
   ]
  },
  {
   "cell_type": "code",
   "execution_count": 7,
   "metadata": {},
   "outputs": [
    {
     "output_type": "execute_result",
     "data": {
      "text/plain": "800"
     },
     "metadata": {},
     "execution_count": 7
    }
   ],
   "source": [
    "lines_in_file = ! wc -l < data/pokemons/pokemons.csv\n",
    "lines_in_file = int(lines_in_file[0])-1\n",
    "lines_in_file"
   ]
  },
  {
   "cell_type": "markdown",
   "metadata": {},
   "source": [
    "Now let's imagine we want a sample of only 10 random rows from the file. We're going to use `skiprows` to... well... skip a couple of rows. The trick is to randomly pick a set of rows to be skipped, while leaving 10 rows in place."
   ]
  },
  {
   "cell_type": "code",
   "execution_count": 8,
   "metadata": {},
   "outputs": [
    {
     "output_type": "execute_result",
     "data": {
      "text/plain": "     #           Name   Type 1    Type 2   HP  Attack  Defense  Sp. Atk  \\\n0  191        Togetic    Fairy    Flying   55      40       85       80   \n1  213        Umbreon     Dark       NaN   95      65      110       60   \n2  232      Heracross      Bug  Fighting   80     125       75       40   \n3  393          Absol     Dark       NaN   65     130       60       75   \n4  489        Happiny   Normal       NaN  100       5        5       15   \n5  555          Snivy    Grass       NaN   45      45       55       45   \n6  565        Watchog   Normal       NaN   60      85       69       60   \n7  647       Deerling   Normal     Grass   60      60       50       40   \n8  799  Hoopa Unbound  Psychic      Dark   80     160       60      170   \n9  800      Volcanion     Fire     Water   80     110      120      130   \n\n   Sp. Def  Speed  Generation  Legendary  \n0      105     40           2      False  \n1      130     65           2      False  \n2       95     85           2      False  \n3       60     75           3      False  \n4       65     30           4      False  \n5       55     63           5      False  \n6       69     77           5      False  \n7       50     75           5      False  \n8      130     80           6       True  \n9       90     70           6       True  ",
      "text/html": "<div>\n<style scoped>\n    .dataframe tbody tr th:only-of-type {\n        vertical-align: middle;\n    }\n\n    .dataframe tbody tr th {\n        vertical-align: top;\n    }\n\n    .dataframe thead th {\n        text-align: right;\n    }\n</style>\n<table border=\"1\" class=\"dataframe\">\n  <thead>\n    <tr style=\"text-align: right;\">\n      <th></th>\n      <th>#</th>\n      <th>Name</th>\n      <th>Type 1</th>\n      <th>Type 2</th>\n      <th>HP</th>\n      <th>Attack</th>\n      <th>Defense</th>\n      <th>Sp. Atk</th>\n      <th>Sp. Def</th>\n      <th>Speed</th>\n      <th>Generation</th>\n      <th>Legendary</th>\n    </tr>\n  </thead>\n  <tbody>\n    <tr>\n      <th>0</th>\n      <td>191</td>\n      <td>Togetic</td>\n      <td>Fairy</td>\n      <td>Flying</td>\n      <td>55</td>\n      <td>40</td>\n      <td>85</td>\n      <td>80</td>\n      <td>105</td>\n      <td>40</td>\n      <td>2</td>\n      <td>False</td>\n    </tr>\n    <tr>\n      <th>1</th>\n      <td>213</td>\n      <td>Umbreon</td>\n      <td>Dark</td>\n      <td>NaN</td>\n      <td>95</td>\n      <td>65</td>\n      <td>110</td>\n      <td>60</td>\n      <td>130</td>\n      <td>65</td>\n      <td>2</td>\n      <td>False</td>\n    </tr>\n    <tr>\n      <th>2</th>\n      <td>232</td>\n      <td>Heracross</td>\n      <td>Bug</td>\n      <td>Fighting</td>\n      <td>80</td>\n      <td>125</td>\n      <td>75</td>\n      <td>40</td>\n      <td>95</td>\n      <td>85</td>\n      <td>2</td>\n      <td>False</td>\n    </tr>\n    <tr>\n      <th>3</th>\n      <td>393</td>\n      <td>Absol</td>\n      <td>Dark</td>\n      <td>NaN</td>\n      <td>65</td>\n      <td>130</td>\n      <td>60</td>\n      <td>75</td>\n      <td>60</td>\n      <td>75</td>\n      <td>3</td>\n      <td>False</td>\n    </tr>\n    <tr>\n      <th>4</th>\n      <td>489</td>\n      <td>Happiny</td>\n      <td>Normal</td>\n      <td>NaN</td>\n      <td>100</td>\n      <td>5</td>\n      <td>5</td>\n      <td>15</td>\n      <td>65</td>\n      <td>30</td>\n      <td>4</td>\n      <td>False</td>\n    </tr>\n    <tr>\n      <th>5</th>\n      <td>555</td>\n      <td>Snivy</td>\n      <td>Grass</td>\n      <td>NaN</td>\n      <td>45</td>\n      <td>45</td>\n      <td>55</td>\n      <td>45</td>\n      <td>55</td>\n      <td>63</td>\n      <td>5</td>\n      <td>False</td>\n    </tr>\n    <tr>\n      <th>6</th>\n      <td>565</td>\n      <td>Watchog</td>\n      <td>Normal</td>\n      <td>NaN</td>\n      <td>60</td>\n      <td>85</td>\n      <td>69</td>\n      <td>60</td>\n      <td>69</td>\n      <td>77</td>\n      <td>5</td>\n      <td>False</td>\n    </tr>\n    <tr>\n      <th>7</th>\n      <td>647</td>\n      <td>Deerling</td>\n      <td>Normal</td>\n      <td>Grass</td>\n      <td>60</td>\n      <td>60</td>\n      <td>50</td>\n      <td>40</td>\n      <td>50</td>\n      <td>75</td>\n      <td>5</td>\n      <td>False</td>\n    </tr>\n    <tr>\n      <th>8</th>\n      <td>799</td>\n      <td>Hoopa Unbound</td>\n      <td>Psychic</td>\n      <td>Dark</td>\n      <td>80</td>\n      <td>160</td>\n      <td>60</td>\n      <td>170</td>\n      <td>130</td>\n      <td>80</td>\n      <td>6</td>\n      <td>True</td>\n    </tr>\n    <tr>\n      <th>9</th>\n      <td>800</td>\n      <td>Volcanion</td>\n      <td>Fire</td>\n      <td>Water</td>\n      <td>80</td>\n      <td>110</td>\n      <td>120</td>\n      <td>130</td>\n      <td>90</td>\n      <td>70</td>\n      <td>6</td>\n      <td>True</td>\n    </tr>\n  </tbody>\n</table>\n</div>"
     },
     "metadata": {},
     "execution_count": 8
    }
   ],
   "source": [
    "sample_number = 10\n",
    "n_rows_to_skip = lines_in_file - sample_number\n",
    "\n",
    "random.seed(42) # this is to get always the same sample. can be removed if we want the sample to change\n",
    "rows_to_skip = random.sample(\n",
    "    range(1, lines_in_file-1), # this is a range from the first row after the header, to the last row on the file\n",
    "    n_rows_to_skip # this is the number of rows we want to random sample here, and that we will be skipped on pd.read_csv with argument skiprows\n",
    ")\n",
    "\n",
    "pd.read_csv( \n",
    "    pokemons_filepath('pokemons.csv'),\n",
    "    skiprows=rows_to_skip\n",
    ")"
   ]
  },
  {
   "cell_type": "markdown",
   "metadata": {},
   "source": [
    "The downside of the approach we presented above, is that you have to open the file twice (one for getting the number of rows and another to take the sample).\n",
    "\n",
    "If you don't care a lot about the sample size, and you're happy taking a sample that is a certain percentage of the rows in the file, you can actually avoid opening the file twice.\n",
    "\n",
    "In this case, we will give a function to the `skiprows` argument of read_csv. This function will be called for each row in the file, and each row will be skipped with a probablility of `1 - p`. The `i > 0`is to avoid skipping the header."
   ]
  },
  {
   "cell_type": "code",
   "execution_count": 9,
   "metadata": {},
   "outputs": [
    {
     "output_type": "execute_result",
     "data": {
      "text/plain": "     #             Name   Type 1   Type 2   HP  Attack  Defense  Sp. Atk  \\\n0   20    Mega Beedrill      Bug   Poison   65     150       40       15   \n1  125  Mega Kangaskhan   Normal      NaN  105     125      100       60   \n2  270            Lugia  Psychic   Flying  106      90      130       90   \n3  291        Beautifly      Bug   Flying   60      70       50      100   \n4  298          Nuzleaf    Grass     Dark   70      70       40       60   \n5  369          Seviper   Poison      NaN   73     100       60      100   \n6  395           Wynaut  Psychic      NaN   95      23       48       23   \n7  428          Jirachi    Steel  Psychic  100     100      100      100   \n8  482        Chingling  Psychic      NaN   45      30       50       65   \n9  685           Golurk   Ground    Ghost   89     124       80       55   \n\n   Sp. Def  Speed  Generation  Legendary  \n0       80    145           1      False  \n1      100    100           1      False  \n2      154    110           2       True  \n3       50     65           3      False  \n4       40     60           3      False  \n5       60     65           3      False  \n6       48     23           3      False  \n7      100    100           3       True  \n8       50     45           4      False  \n9       80     55           5      False  ",
      "text/html": "<div>\n<style scoped>\n    .dataframe tbody tr th:only-of-type {\n        vertical-align: middle;\n    }\n\n    .dataframe tbody tr th {\n        vertical-align: top;\n    }\n\n    .dataframe thead th {\n        text-align: right;\n    }\n</style>\n<table border=\"1\" class=\"dataframe\">\n  <thead>\n    <tr style=\"text-align: right;\">\n      <th></th>\n      <th>#</th>\n      <th>Name</th>\n      <th>Type 1</th>\n      <th>Type 2</th>\n      <th>HP</th>\n      <th>Attack</th>\n      <th>Defense</th>\n      <th>Sp. Atk</th>\n      <th>Sp. Def</th>\n      <th>Speed</th>\n      <th>Generation</th>\n      <th>Legendary</th>\n    </tr>\n  </thead>\n  <tbody>\n    <tr>\n      <th>0</th>\n      <td>20</td>\n      <td>Mega Beedrill</td>\n      <td>Bug</td>\n      <td>Poison</td>\n      <td>65</td>\n      <td>150</td>\n      <td>40</td>\n      <td>15</td>\n      <td>80</td>\n      <td>145</td>\n      <td>1</td>\n      <td>False</td>\n    </tr>\n    <tr>\n      <th>1</th>\n      <td>125</td>\n      <td>Mega Kangaskhan</td>\n      <td>Normal</td>\n      <td>NaN</td>\n      <td>105</td>\n      <td>125</td>\n      <td>100</td>\n      <td>60</td>\n      <td>100</td>\n      <td>100</td>\n      <td>1</td>\n      <td>False</td>\n    </tr>\n    <tr>\n      <th>2</th>\n      <td>270</td>\n      <td>Lugia</td>\n      <td>Psychic</td>\n      <td>Flying</td>\n      <td>106</td>\n      <td>90</td>\n      <td>130</td>\n      <td>90</td>\n      <td>154</td>\n      <td>110</td>\n      <td>2</td>\n      <td>True</td>\n    </tr>\n    <tr>\n      <th>3</th>\n      <td>291</td>\n      <td>Beautifly</td>\n      <td>Bug</td>\n      <td>Flying</td>\n      <td>60</td>\n      <td>70</td>\n      <td>50</td>\n      <td>100</td>\n      <td>50</td>\n      <td>65</td>\n      <td>3</td>\n      <td>False</td>\n    </tr>\n    <tr>\n      <th>4</th>\n      <td>298</td>\n      <td>Nuzleaf</td>\n      <td>Grass</td>\n      <td>Dark</td>\n      <td>70</td>\n      <td>70</td>\n      <td>40</td>\n      <td>60</td>\n      <td>40</td>\n      <td>60</td>\n      <td>3</td>\n      <td>False</td>\n    </tr>\n    <tr>\n      <th>5</th>\n      <td>369</td>\n      <td>Seviper</td>\n      <td>Poison</td>\n      <td>NaN</td>\n      <td>73</td>\n      <td>100</td>\n      <td>60</td>\n      <td>100</td>\n      <td>60</td>\n      <td>65</td>\n      <td>3</td>\n      <td>False</td>\n    </tr>\n    <tr>\n      <th>6</th>\n      <td>395</td>\n      <td>Wynaut</td>\n      <td>Psychic</td>\n      <td>NaN</td>\n      <td>95</td>\n      <td>23</td>\n      <td>48</td>\n      <td>23</td>\n      <td>48</td>\n      <td>23</td>\n      <td>3</td>\n      <td>False</td>\n    </tr>\n    <tr>\n      <th>7</th>\n      <td>428</td>\n      <td>Jirachi</td>\n      <td>Steel</td>\n      <td>Psychic</td>\n      <td>100</td>\n      <td>100</td>\n      <td>100</td>\n      <td>100</td>\n      <td>100</td>\n      <td>100</td>\n      <td>3</td>\n      <td>True</td>\n    </tr>\n    <tr>\n      <th>8</th>\n      <td>482</td>\n      <td>Chingling</td>\n      <td>Psychic</td>\n      <td>NaN</td>\n      <td>45</td>\n      <td>30</td>\n      <td>50</td>\n      <td>65</td>\n      <td>50</td>\n      <td>45</td>\n      <td>4</td>\n      <td>False</td>\n    </tr>\n    <tr>\n      <th>9</th>\n      <td>685</td>\n      <td>Golurk</td>\n      <td>Ground</td>\n      <td>Ghost</td>\n      <td>89</td>\n      <td>124</td>\n      <td>80</td>\n      <td>55</td>\n      <td>80</td>\n      <td>55</td>\n      <td>5</td>\n      <td>False</td>\n    </tr>\n  </tbody>\n</table>\n</div>"
     },
     "metadata": {},
     "execution_count": 9
    }
   ],
   "source": [
    "# Statistically sample approximately 1% of the rows using a probability function\n",
    "p = 0.01\n",
    "random.seed(42)\n",
    "\n",
    "pd.read_csv( \n",
    "    pokemons_filepath('pokemons.csv'), \n",
    "    skiprows=lambda i: i > 0 and random.random() > p\n",
    ")"
   ]
  },
  {
   "cell_type": "markdown",
   "metadata": {},
   "source": [
    "## 2. Load the file using chunks\n",
    "\n",
    "Sometimes files are very large, but you still want to go through all the precious data stored there.\n",
    "The problem is that you can easily fill up your memory and processing the data in the file becomes really slow!\n",
    "\n",
    "In these cases you can use chunks! Using chunks means loading the data in small portions at each time, and applying transformations to those small portions of data. This should allow you to process the data in large files faster.\n",
    "\n",
    "This is a simple toy example:"
   ]
  },
  {
   "cell_type": "code",
   "execution_count": 10,
   "metadata": {
    "tags": []
   },
   "outputs": [
    {
     "output_type": "stream",
     "name": "stdout",
     "text": "We analyzed a total of 800 rows divided in 9  chunks with the following configuration:\n [99, 99, 99, 99, 99, 99, 99, 99, 8]\n"
    }
   ],
   "source": [
    "chunks_iter = pd.read_csv(\n",
    "    pokemons_filepath('pokemons.csv'),\n",
    "    chunksize=99\n",
    ")\n",
    "\n",
    "chunk_arr = []\n",
    "for data_chunk in chunks_iter:\n",
    "    chunk_arr.append(data_chunk)\n",
    "    \n",
    "print(\n",
    "    \"We analyzed a total of\",\n",
    "    sum([len(c) for c in chunk_arr]), \n",
    "    \"rows divided in\", \n",
    "    len(chunk_arr), \n",
    "    \" chunks with the following configuration:\\n\",\n",
    "    [len(c) for c in chunk_arr]\n",
    ")"
   ]
  },
  {
   "cell_type": "markdown",
   "metadata": {},
   "source": [
    "Since `pd.read_csv` with chunksize returns a generator, you can handle each chunk with small amount of memory. Know more about generators and memory advantages [here](https://wiki.python.org/moin/Generators). "
   ]
  },
  {
   "cell_type": "markdown",
   "metadata": {},
   "source": [
    "Let's now see an example with real data.\n",
    "We'll load our pokemons file in chunks and, in each chunk we'll only keep the rows where the pokemon has `Type 1 = Ice`. \n",
    "Then, we'll create a DataFrame with the filtered chunks."
   ]
  },
  {
   "cell_type": "code",
   "execution_count": 11,
   "metadata": {},
   "outputs": [],
   "source": [
    "def filter_type1_ice(data):\n",
    "    return data.loc[data['Type 1'] =='Ice',:]"
   ]
  },
  {
   "cell_type": "code",
   "execution_count": 12,
   "metadata": {},
   "outputs": [
    {
     "output_type": "execute_result",
     "data": {
      "text/plain": "       #       Name Type 1   Type 2   HP  Attack  Defense  Sp. Atk  Sp. Def  \\\n133  134       Jynx    Ice  Psychic   65      50       35      115       95   \n156  157   Articuno    Ice   Flying   90      85      100       95      125   \n238  239     Swinub    Ice   Ground   50      50       40       30       30   \n239  240  Piloswine    Ice   Ground  100     100       80       60       60   \n243  244   Delibird    Ice   Flying   45      55       45       65       45   \n\n     Speed  Generation  Legendary  \n133     95           1      False  \n156     85           1       True  \n238     50           2      False  \n239     50           2      False  \n243     75           2      False  ",
      "text/html": "<div>\n<style scoped>\n    .dataframe tbody tr th:only-of-type {\n        vertical-align: middle;\n    }\n\n    .dataframe tbody tr th {\n        vertical-align: top;\n    }\n\n    .dataframe thead th {\n        text-align: right;\n    }\n</style>\n<table border=\"1\" class=\"dataframe\">\n  <thead>\n    <tr style=\"text-align: right;\">\n      <th></th>\n      <th>#</th>\n      <th>Name</th>\n      <th>Type 1</th>\n      <th>Type 2</th>\n      <th>HP</th>\n      <th>Attack</th>\n      <th>Defense</th>\n      <th>Sp. Atk</th>\n      <th>Sp. Def</th>\n      <th>Speed</th>\n      <th>Generation</th>\n      <th>Legendary</th>\n    </tr>\n  </thead>\n  <tbody>\n    <tr>\n      <th>133</th>\n      <td>134</td>\n      <td>Jynx</td>\n      <td>Ice</td>\n      <td>Psychic</td>\n      <td>65</td>\n      <td>50</td>\n      <td>35</td>\n      <td>115</td>\n      <td>95</td>\n      <td>95</td>\n      <td>1</td>\n      <td>False</td>\n    </tr>\n    <tr>\n      <th>156</th>\n      <td>157</td>\n      <td>Articuno</td>\n      <td>Ice</td>\n      <td>Flying</td>\n      <td>90</td>\n      <td>85</td>\n      <td>100</td>\n      <td>95</td>\n      <td>125</td>\n      <td>85</td>\n      <td>1</td>\n      <td>True</td>\n    </tr>\n    <tr>\n      <th>238</th>\n      <td>239</td>\n      <td>Swinub</td>\n      <td>Ice</td>\n      <td>Ground</td>\n      <td>50</td>\n      <td>50</td>\n      <td>40</td>\n      <td>30</td>\n      <td>30</td>\n      <td>50</td>\n      <td>2</td>\n      <td>False</td>\n    </tr>\n    <tr>\n      <th>239</th>\n      <td>240</td>\n      <td>Piloswine</td>\n      <td>Ice</td>\n      <td>Ground</td>\n      <td>100</td>\n      <td>100</td>\n      <td>80</td>\n      <td>60</td>\n      <td>60</td>\n      <td>50</td>\n      <td>2</td>\n      <td>False</td>\n    </tr>\n    <tr>\n      <th>243</th>\n      <td>244</td>\n      <td>Delibird</td>\n      <td>Ice</td>\n      <td>Flying</td>\n      <td>45</td>\n      <td>55</td>\n      <td>45</td>\n      <td>65</td>\n      <td>45</td>\n      <td>75</td>\n      <td>2</td>\n      <td>False</td>\n    </tr>\n  </tbody>\n</table>\n</div>"
     },
     "metadata": {},
     "execution_count": 12
    }
   ],
   "source": [
    "chunks_iter = pd.read_csv(\n",
    "    pokemons_filepath('pokemons.csv'),\n",
    "    chunksize=99\n",
    ")\n",
    "\n",
    "chunk_arr = []\n",
    "for data_chunk in chunks_iter:\n",
    "    data_chunk_filtered = filter_type1_ice(data_chunk)\n",
    "    chunk_arr.append(data_chunk_filtered)\n",
    "\n",
    "final_pd = pd.concat(chunk_arr, axis=0)\n",
    "final_pd.head()"
   ]
  },
  {
   "cell_type": "markdown",
   "metadata": {},
   "source": [
    "\n",
    "**Note**\n",
    "\n",
    "Of course we are applying big files techniques to small files! Given this file size we could simply apply \n",
    "```\n",
    "data = pd.read_csv(pokemons_filepath('pokemons.csv'))\n",
    "data.loc[data['Type 1'] =='Ice',:]\n",
    "\n",
    "```\n",
    "**End of Note**\n",
    "\n",
    "---\n"
   ]
  },
  {
   "cell_type": "markdown",
   "metadata": {},
   "source": [
    "If, for some reason you still need to reduce the resulting DataFrame size, there are still 2 things you can do: \n",
    "- reduce the number of columns\n",
    "- change field types to the most appropriate ones, eg, you can \"shrink\" ints and floats to 32 bits or even 16\n",
    "\n",
    "Here is an example of this and how we can measure the memory \"savings\"."
   ]
  },
  {
   "cell_type": "code",
   "execution_count": 13,
   "metadata": {},
   "outputs": [
    {
     "output_type": "execute_result",
     "data": {
      "text/plain": "2328"
     },
     "metadata": {},
     "execution_count": 13
    }
   ],
   "source": [
    "# size in bytes\n",
    "final_pd.memory_usage().sum()"
   ]
  },
  {
   "cell_type": "markdown",
   "metadata": {},
   "source": [
    "Here we remove some columns, and the DataFrame size was already reduced."
   ]
  },
  {
   "cell_type": "code",
   "execution_count": 14,
   "metadata": {},
   "outputs": [
    {
     "output_type": "execute_result",
     "data": {
      "text/plain": "1536"
     },
     "metadata": {},
     "execution_count": 14
    }
   ],
   "source": [
    "cols = ['Name', 'Attack', 'Defense', 'Sp. Atk', 'Sp. Def', 'Speed', 'Generation']\n",
    "final_pd_shrinked = final_pd.loc[:,cols]\n",
    "final_pd_shrinked.memory_usage().sum()"
   ]
  },
  {
   "cell_type": "markdown",
   "metadata": {},
   "source": [
    "Here we change some column types, from `int64` to `int16`:"
   ]
  },
  {
   "cell_type": "code",
   "execution_count": 15,
   "metadata": {},
   "outputs": [
    {
     "output_type": "execute_result",
     "data": {
      "text/plain": "672"
     },
     "metadata": {},
     "execution_count": 15
    }
   ],
   "source": [
    "cols = ['Attack', 'Defense', 'Sp. Atk', 'Sp. Def', 'Speed', 'Generation']\n",
    "final_pd_shrinked[cols] = final_pd_shrinked[cols].astype('int16')\n",
    "\n",
    "#size in bytes\n",
    "final_pd_shrinked.memory_usage().sum()"
   ]
  }
 ],
 "metadata": {
  "kernelspec": {
   "display_name": "Python 3",
   "language": "python",
   "name": "python3"
  },
  "language_info": {
   "codemirror_mode": {
    "name": "ipython",
    "version": 3
   },
   "file_extension": ".py",
   "mimetype": "text/x-python",
   "name": "python",
   "nbconvert_exporter": "python",
   "pygments_lexer": "ipython3",
   "version": "3.7.3"
  }
 },
 "nbformat": 4,
 "nbformat_minor": 2
}